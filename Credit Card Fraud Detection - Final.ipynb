{
 "cells": [
  {
   "cell_type": "code",
   "execution_count": 1,
   "id": "da3444a3",
   "metadata": {},
   "outputs": [],
   "source": [
    "# import the necessary packages\n",
    "\n",
    "import numpy as np\n",
    "import pandas as pd\n",
    "import matplotlib.pyplot as plt\n",
    "import seaborn as sns\n",
    "from sklearn.metrics import classification_report,confusion_matrix\n",
    "import time\n",
    "import warnings\n",
    "warnings.filterwarnings(\"ignore\")"
   ]
  },
  {
   "cell_type": "code",
   "execution_count": 2,
   "id": "61cd65f0",
   "metadata": {},
   "outputs": [],
   "source": [
    "data = pd.read_csv(\"E:\\Technology\\python\\Datasets\\creditcard.csv\")"
   ]
  },
  {
   "cell_type": "code",
   "execution_count": 3,
   "id": "9ca80154",
   "metadata": {},
   "outputs": [
    {
     "data": {
      "text/html": [
       "<div>\n",
       "<style scoped>\n",
       "    .dataframe tbody tr th:only-of-type {\n",
       "        vertical-align: middle;\n",
       "    }\n",
       "\n",
       "    .dataframe tbody tr th {\n",
       "        vertical-align: top;\n",
       "    }\n",
       "\n",
       "    .dataframe thead th {\n",
       "        text-align: right;\n",
       "    }\n",
       "</style>\n",
       "<table border=\"1\" class=\"dataframe\">\n",
       "  <thead>\n",
       "    <tr style=\"text-align: right;\">\n",
       "      <th></th>\n",
       "      <th>Time</th>\n",
       "      <th>V1</th>\n",
       "      <th>V2</th>\n",
       "      <th>V3</th>\n",
       "      <th>V4</th>\n",
       "      <th>V5</th>\n",
       "      <th>V6</th>\n",
       "      <th>V7</th>\n",
       "      <th>V8</th>\n",
       "      <th>V9</th>\n",
       "      <th>...</th>\n",
       "      <th>V21</th>\n",
       "      <th>V22</th>\n",
       "      <th>V23</th>\n",
       "      <th>V24</th>\n",
       "      <th>V25</th>\n",
       "      <th>V26</th>\n",
       "      <th>V27</th>\n",
       "      <th>V28</th>\n",
       "      <th>Amount</th>\n",
       "      <th>Class</th>\n",
       "    </tr>\n",
       "  </thead>\n",
       "  <tbody>\n",
       "    <tr>\n",
       "      <th>0</th>\n",
       "      <td>0.0</td>\n",
       "      <td>-1.359807</td>\n",
       "      <td>-0.072781</td>\n",
       "      <td>2.536347</td>\n",
       "      <td>1.378155</td>\n",
       "      <td>-0.338321</td>\n",
       "      <td>0.462388</td>\n",
       "      <td>0.239599</td>\n",
       "      <td>0.098698</td>\n",
       "      <td>0.363787</td>\n",
       "      <td>...</td>\n",
       "      <td>-0.018307</td>\n",
       "      <td>0.277838</td>\n",
       "      <td>-0.110474</td>\n",
       "      <td>0.066928</td>\n",
       "      <td>0.128539</td>\n",
       "      <td>-0.189115</td>\n",
       "      <td>0.133558</td>\n",
       "      <td>-0.021053</td>\n",
       "      <td>149.62</td>\n",
       "      <td>0</td>\n",
       "    </tr>\n",
       "    <tr>\n",
       "      <th>1</th>\n",
       "      <td>0.0</td>\n",
       "      <td>1.191857</td>\n",
       "      <td>0.266151</td>\n",
       "      <td>0.166480</td>\n",
       "      <td>0.448154</td>\n",
       "      <td>0.060018</td>\n",
       "      <td>-0.082361</td>\n",
       "      <td>-0.078803</td>\n",
       "      <td>0.085102</td>\n",
       "      <td>-0.255425</td>\n",
       "      <td>...</td>\n",
       "      <td>-0.225775</td>\n",
       "      <td>-0.638672</td>\n",
       "      <td>0.101288</td>\n",
       "      <td>-0.339846</td>\n",
       "      <td>0.167170</td>\n",
       "      <td>0.125895</td>\n",
       "      <td>-0.008983</td>\n",
       "      <td>0.014724</td>\n",
       "      <td>2.69</td>\n",
       "      <td>0</td>\n",
       "    </tr>\n",
       "    <tr>\n",
       "      <th>2</th>\n",
       "      <td>1.0</td>\n",
       "      <td>-1.358354</td>\n",
       "      <td>-1.340163</td>\n",
       "      <td>1.773209</td>\n",
       "      <td>0.379780</td>\n",
       "      <td>-0.503198</td>\n",
       "      <td>1.800499</td>\n",
       "      <td>0.791461</td>\n",
       "      <td>0.247676</td>\n",
       "      <td>-1.514654</td>\n",
       "      <td>...</td>\n",
       "      <td>0.247998</td>\n",
       "      <td>0.771679</td>\n",
       "      <td>0.909412</td>\n",
       "      <td>-0.689281</td>\n",
       "      <td>-0.327642</td>\n",
       "      <td>-0.139097</td>\n",
       "      <td>-0.055353</td>\n",
       "      <td>-0.059752</td>\n",
       "      <td>378.66</td>\n",
       "      <td>0</td>\n",
       "    </tr>\n",
       "    <tr>\n",
       "      <th>3</th>\n",
       "      <td>1.0</td>\n",
       "      <td>-0.966272</td>\n",
       "      <td>-0.185226</td>\n",
       "      <td>1.792993</td>\n",
       "      <td>-0.863291</td>\n",
       "      <td>-0.010309</td>\n",
       "      <td>1.247203</td>\n",
       "      <td>0.237609</td>\n",
       "      <td>0.377436</td>\n",
       "      <td>-1.387024</td>\n",
       "      <td>...</td>\n",
       "      <td>-0.108300</td>\n",
       "      <td>0.005274</td>\n",
       "      <td>-0.190321</td>\n",
       "      <td>-1.175575</td>\n",
       "      <td>0.647376</td>\n",
       "      <td>-0.221929</td>\n",
       "      <td>0.062723</td>\n",
       "      <td>0.061458</td>\n",
       "      <td>123.50</td>\n",
       "      <td>0</td>\n",
       "    </tr>\n",
       "    <tr>\n",
       "      <th>4</th>\n",
       "      <td>2.0</td>\n",
       "      <td>-1.158233</td>\n",
       "      <td>0.877737</td>\n",
       "      <td>1.548718</td>\n",
       "      <td>0.403034</td>\n",
       "      <td>-0.407193</td>\n",
       "      <td>0.095921</td>\n",
       "      <td>0.592941</td>\n",
       "      <td>-0.270533</td>\n",
       "      <td>0.817739</td>\n",
       "      <td>...</td>\n",
       "      <td>-0.009431</td>\n",
       "      <td>0.798278</td>\n",
       "      <td>-0.137458</td>\n",
       "      <td>0.141267</td>\n",
       "      <td>-0.206010</td>\n",
       "      <td>0.502292</td>\n",
       "      <td>0.219422</td>\n",
       "      <td>0.215153</td>\n",
       "      <td>69.99</td>\n",
       "      <td>0</td>\n",
       "    </tr>\n",
       "  </tbody>\n",
       "</table>\n",
       "<p>5 rows × 31 columns</p>\n",
       "</div>"
      ],
      "text/plain": [
       "   Time        V1        V2        V3        V4        V5        V6        V7  \\\n",
       "0   0.0 -1.359807 -0.072781  2.536347  1.378155 -0.338321  0.462388  0.239599   \n",
       "1   0.0  1.191857  0.266151  0.166480  0.448154  0.060018 -0.082361 -0.078803   \n",
       "2   1.0 -1.358354 -1.340163  1.773209  0.379780 -0.503198  1.800499  0.791461   \n",
       "3   1.0 -0.966272 -0.185226  1.792993 -0.863291 -0.010309  1.247203  0.237609   \n",
       "4   2.0 -1.158233  0.877737  1.548718  0.403034 -0.407193  0.095921  0.592941   \n",
       "\n",
       "         V8        V9  ...       V21       V22       V23       V24       V25  \\\n",
       "0  0.098698  0.363787  ... -0.018307  0.277838 -0.110474  0.066928  0.128539   \n",
       "1  0.085102 -0.255425  ... -0.225775 -0.638672  0.101288 -0.339846  0.167170   \n",
       "2  0.247676 -1.514654  ...  0.247998  0.771679  0.909412 -0.689281 -0.327642   \n",
       "3  0.377436 -1.387024  ... -0.108300  0.005274 -0.190321 -1.175575  0.647376   \n",
       "4 -0.270533  0.817739  ... -0.009431  0.798278 -0.137458  0.141267 -0.206010   \n",
       "\n",
       "        V26       V27       V28  Amount  Class  \n",
       "0 -0.189115  0.133558 -0.021053  149.62      0  \n",
       "1  0.125895 -0.008983  0.014724    2.69      0  \n",
       "2 -0.139097 -0.055353 -0.059752  378.66      0  \n",
       "3 -0.221929  0.062723  0.061458  123.50      0  \n",
       "4  0.502292  0.219422  0.215153   69.99      0  \n",
       "\n",
       "[5 rows x 31 columns]"
      ]
     },
     "execution_count": 3,
     "metadata": {},
     "output_type": "execute_result"
    }
   ],
   "source": [
    "data.head()"
   ]
  },
  {
   "cell_type": "code",
   "execution_count": 4,
   "id": "4956ac6f",
   "metadata": {},
   "outputs": [
    {
     "data": {
      "text/plain": [
       "(284807, 31)"
      ]
     },
     "execution_count": 4,
     "metadata": {},
     "output_type": "execute_result"
    }
   ],
   "source": [
    "data.shape"
   ]
  },
  {
   "cell_type": "code",
   "execution_count": 5,
   "id": "8855a711",
   "metadata": {},
   "outputs": [
    {
     "data": {
      "text/html": [
       "<div>\n",
       "<style scoped>\n",
       "    .dataframe tbody tr th:only-of-type {\n",
       "        vertical-align: middle;\n",
       "    }\n",
       "\n",
       "    .dataframe tbody tr th {\n",
       "        vertical-align: top;\n",
       "    }\n",
       "\n",
       "    .dataframe thead th {\n",
       "        text-align: right;\n",
       "    }\n",
       "</style>\n",
       "<table border=\"1\" class=\"dataframe\">\n",
       "  <thead>\n",
       "    <tr style=\"text-align: right;\">\n",
       "      <th></th>\n",
       "      <th>Time</th>\n",
       "      <th>V1</th>\n",
       "      <th>V2</th>\n",
       "      <th>V3</th>\n",
       "      <th>V4</th>\n",
       "      <th>V5</th>\n",
       "      <th>V6</th>\n",
       "      <th>V7</th>\n",
       "      <th>V8</th>\n",
       "      <th>V9</th>\n",
       "      <th>...</th>\n",
       "      <th>V21</th>\n",
       "      <th>V22</th>\n",
       "      <th>V23</th>\n",
       "      <th>V24</th>\n",
       "      <th>V25</th>\n",
       "      <th>V26</th>\n",
       "      <th>V27</th>\n",
       "      <th>V28</th>\n",
       "      <th>Amount</th>\n",
       "      <th>Class</th>\n",
       "    </tr>\n",
       "  </thead>\n",
       "  <tbody>\n",
       "    <tr>\n",
       "      <th>count</th>\n",
       "      <td>284807.000000</td>\n",
       "      <td>2.848070e+05</td>\n",
       "      <td>2.848070e+05</td>\n",
       "      <td>2.848070e+05</td>\n",
       "      <td>2.848070e+05</td>\n",
       "      <td>2.848070e+05</td>\n",
       "      <td>2.848070e+05</td>\n",
       "      <td>2.848070e+05</td>\n",
       "      <td>2.848070e+05</td>\n",
       "      <td>2.848070e+05</td>\n",
       "      <td>...</td>\n",
       "      <td>2.848070e+05</td>\n",
       "      <td>2.848070e+05</td>\n",
       "      <td>2.848070e+05</td>\n",
       "      <td>2.848070e+05</td>\n",
       "      <td>2.848070e+05</td>\n",
       "      <td>2.848070e+05</td>\n",
       "      <td>2.848070e+05</td>\n",
       "      <td>2.848070e+05</td>\n",
       "      <td>284807.000000</td>\n",
       "      <td>284807.000000</td>\n",
       "    </tr>\n",
       "    <tr>\n",
       "      <th>mean</th>\n",
       "      <td>94813.859575</td>\n",
       "      <td>3.918649e-15</td>\n",
       "      <td>5.682686e-16</td>\n",
       "      <td>-8.761736e-15</td>\n",
       "      <td>2.811118e-15</td>\n",
       "      <td>-1.552103e-15</td>\n",
       "      <td>2.040130e-15</td>\n",
       "      <td>-1.698953e-15</td>\n",
       "      <td>-1.893285e-16</td>\n",
       "      <td>-3.147640e-15</td>\n",
       "      <td>...</td>\n",
       "      <td>1.473120e-16</td>\n",
       "      <td>8.042109e-16</td>\n",
       "      <td>5.282512e-16</td>\n",
       "      <td>4.456271e-15</td>\n",
       "      <td>1.426896e-15</td>\n",
       "      <td>1.701640e-15</td>\n",
       "      <td>-3.662252e-16</td>\n",
       "      <td>-1.217809e-16</td>\n",
       "      <td>88.349619</td>\n",
       "      <td>0.001727</td>\n",
       "    </tr>\n",
       "    <tr>\n",
       "      <th>std</th>\n",
       "      <td>47488.145955</td>\n",
       "      <td>1.958696e+00</td>\n",
       "      <td>1.651309e+00</td>\n",
       "      <td>1.516255e+00</td>\n",
       "      <td>1.415869e+00</td>\n",
       "      <td>1.380247e+00</td>\n",
       "      <td>1.332271e+00</td>\n",
       "      <td>1.237094e+00</td>\n",
       "      <td>1.194353e+00</td>\n",
       "      <td>1.098632e+00</td>\n",
       "      <td>...</td>\n",
       "      <td>7.345240e-01</td>\n",
       "      <td>7.257016e-01</td>\n",
       "      <td>6.244603e-01</td>\n",
       "      <td>6.056471e-01</td>\n",
       "      <td>5.212781e-01</td>\n",
       "      <td>4.822270e-01</td>\n",
       "      <td>4.036325e-01</td>\n",
       "      <td>3.300833e-01</td>\n",
       "      <td>250.120109</td>\n",
       "      <td>0.041527</td>\n",
       "    </tr>\n",
       "    <tr>\n",
       "      <th>min</th>\n",
       "      <td>0.000000</td>\n",
       "      <td>-5.640751e+01</td>\n",
       "      <td>-7.271573e+01</td>\n",
       "      <td>-4.832559e+01</td>\n",
       "      <td>-5.683171e+00</td>\n",
       "      <td>-1.137433e+02</td>\n",
       "      <td>-2.616051e+01</td>\n",
       "      <td>-4.355724e+01</td>\n",
       "      <td>-7.321672e+01</td>\n",
       "      <td>-1.343407e+01</td>\n",
       "      <td>...</td>\n",
       "      <td>-3.483038e+01</td>\n",
       "      <td>-1.093314e+01</td>\n",
       "      <td>-4.480774e+01</td>\n",
       "      <td>-2.836627e+00</td>\n",
       "      <td>-1.029540e+01</td>\n",
       "      <td>-2.604551e+00</td>\n",
       "      <td>-2.256568e+01</td>\n",
       "      <td>-1.543008e+01</td>\n",
       "      <td>0.000000</td>\n",
       "      <td>0.000000</td>\n",
       "    </tr>\n",
       "    <tr>\n",
       "      <th>25%</th>\n",
       "      <td>54201.500000</td>\n",
       "      <td>-9.203734e-01</td>\n",
       "      <td>-5.985499e-01</td>\n",
       "      <td>-8.903648e-01</td>\n",
       "      <td>-8.486401e-01</td>\n",
       "      <td>-6.915971e-01</td>\n",
       "      <td>-7.682956e-01</td>\n",
       "      <td>-5.540759e-01</td>\n",
       "      <td>-2.086297e-01</td>\n",
       "      <td>-6.430976e-01</td>\n",
       "      <td>...</td>\n",
       "      <td>-2.283949e-01</td>\n",
       "      <td>-5.423504e-01</td>\n",
       "      <td>-1.618463e-01</td>\n",
       "      <td>-3.545861e-01</td>\n",
       "      <td>-3.171451e-01</td>\n",
       "      <td>-3.269839e-01</td>\n",
       "      <td>-7.083953e-02</td>\n",
       "      <td>-5.295979e-02</td>\n",
       "      <td>5.600000</td>\n",
       "      <td>0.000000</td>\n",
       "    </tr>\n",
       "    <tr>\n",
       "      <th>50%</th>\n",
       "      <td>84692.000000</td>\n",
       "      <td>1.810880e-02</td>\n",
       "      <td>6.548556e-02</td>\n",
       "      <td>1.798463e-01</td>\n",
       "      <td>-1.984653e-02</td>\n",
       "      <td>-5.433583e-02</td>\n",
       "      <td>-2.741871e-01</td>\n",
       "      <td>4.010308e-02</td>\n",
       "      <td>2.235804e-02</td>\n",
       "      <td>-5.142873e-02</td>\n",
       "      <td>...</td>\n",
       "      <td>-2.945017e-02</td>\n",
       "      <td>6.781943e-03</td>\n",
       "      <td>-1.119293e-02</td>\n",
       "      <td>4.097606e-02</td>\n",
       "      <td>1.659350e-02</td>\n",
       "      <td>-5.213911e-02</td>\n",
       "      <td>1.342146e-03</td>\n",
       "      <td>1.124383e-02</td>\n",
       "      <td>22.000000</td>\n",
       "      <td>0.000000</td>\n",
       "    </tr>\n",
       "    <tr>\n",
       "      <th>75%</th>\n",
       "      <td>139320.500000</td>\n",
       "      <td>1.315642e+00</td>\n",
       "      <td>8.037239e-01</td>\n",
       "      <td>1.027196e+00</td>\n",
       "      <td>7.433413e-01</td>\n",
       "      <td>6.119264e-01</td>\n",
       "      <td>3.985649e-01</td>\n",
       "      <td>5.704361e-01</td>\n",
       "      <td>3.273459e-01</td>\n",
       "      <td>5.971390e-01</td>\n",
       "      <td>...</td>\n",
       "      <td>1.863772e-01</td>\n",
       "      <td>5.285536e-01</td>\n",
       "      <td>1.476421e-01</td>\n",
       "      <td>4.395266e-01</td>\n",
       "      <td>3.507156e-01</td>\n",
       "      <td>2.409522e-01</td>\n",
       "      <td>9.104512e-02</td>\n",
       "      <td>7.827995e-02</td>\n",
       "      <td>77.165000</td>\n",
       "      <td>0.000000</td>\n",
       "    </tr>\n",
       "    <tr>\n",
       "      <th>max</th>\n",
       "      <td>172792.000000</td>\n",
       "      <td>2.454930e+00</td>\n",
       "      <td>2.205773e+01</td>\n",
       "      <td>9.382558e+00</td>\n",
       "      <td>1.687534e+01</td>\n",
       "      <td>3.480167e+01</td>\n",
       "      <td>7.330163e+01</td>\n",
       "      <td>1.205895e+02</td>\n",
       "      <td>2.000721e+01</td>\n",
       "      <td>1.559499e+01</td>\n",
       "      <td>...</td>\n",
       "      <td>2.720284e+01</td>\n",
       "      <td>1.050309e+01</td>\n",
       "      <td>2.252841e+01</td>\n",
       "      <td>4.584549e+00</td>\n",
       "      <td>7.519589e+00</td>\n",
       "      <td>3.517346e+00</td>\n",
       "      <td>3.161220e+01</td>\n",
       "      <td>3.384781e+01</td>\n",
       "      <td>25691.160000</td>\n",
       "      <td>1.000000</td>\n",
       "    </tr>\n",
       "  </tbody>\n",
       "</table>\n",
       "<p>8 rows × 31 columns</p>\n",
       "</div>"
      ],
      "text/plain": [
       "                Time            V1            V2            V3            V4  \\\n",
       "count  284807.000000  2.848070e+05  2.848070e+05  2.848070e+05  2.848070e+05   \n",
       "mean    94813.859575  3.918649e-15  5.682686e-16 -8.761736e-15  2.811118e-15   \n",
       "std     47488.145955  1.958696e+00  1.651309e+00  1.516255e+00  1.415869e+00   \n",
       "min         0.000000 -5.640751e+01 -7.271573e+01 -4.832559e+01 -5.683171e+00   \n",
       "25%     54201.500000 -9.203734e-01 -5.985499e-01 -8.903648e-01 -8.486401e-01   \n",
       "50%     84692.000000  1.810880e-02  6.548556e-02  1.798463e-01 -1.984653e-02   \n",
       "75%    139320.500000  1.315642e+00  8.037239e-01  1.027196e+00  7.433413e-01   \n",
       "max    172792.000000  2.454930e+00  2.205773e+01  9.382558e+00  1.687534e+01   \n",
       "\n",
       "                 V5            V6            V7            V8            V9  \\\n",
       "count  2.848070e+05  2.848070e+05  2.848070e+05  2.848070e+05  2.848070e+05   \n",
       "mean  -1.552103e-15  2.040130e-15 -1.698953e-15 -1.893285e-16 -3.147640e-15   \n",
       "std    1.380247e+00  1.332271e+00  1.237094e+00  1.194353e+00  1.098632e+00   \n",
       "min   -1.137433e+02 -2.616051e+01 -4.355724e+01 -7.321672e+01 -1.343407e+01   \n",
       "25%   -6.915971e-01 -7.682956e-01 -5.540759e-01 -2.086297e-01 -6.430976e-01   \n",
       "50%   -5.433583e-02 -2.741871e-01  4.010308e-02  2.235804e-02 -5.142873e-02   \n",
       "75%    6.119264e-01  3.985649e-01  5.704361e-01  3.273459e-01  5.971390e-01   \n",
       "max    3.480167e+01  7.330163e+01  1.205895e+02  2.000721e+01  1.559499e+01   \n",
       "\n",
       "       ...           V21           V22           V23           V24  \\\n",
       "count  ...  2.848070e+05  2.848070e+05  2.848070e+05  2.848070e+05   \n",
       "mean   ...  1.473120e-16  8.042109e-16  5.282512e-16  4.456271e-15   \n",
       "std    ...  7.345240e-01  7.257016e-01  6.244603e-01  6.056471e-01   \n",
       "min    ... -3.483038e+01 -1.093314e+01 -4.480774e+01 -2.836627e+00   \n",
       "25%    ... -2.283949e-01 -5.423504e-01 -1.618463e-01 -3.545861e-01   \n",
       "50%    ... -2.945017e-02  6.781943e-03 -1.119293e-02  4.097606e-02   \n",
       "75%    ...  1.863772e-01  5.285536e-01  1.476421e-01  4.395266e-01   \n",
       "max    ...  2.720284e+01  1.050309e+01  2.252841e+01  4.584549e+00   \n",
       "\n",
       "                V25           V26           V27           V28         Amount  \\\n",
       "count  2.848070e+05  2.848070e+05  2.848070e+05  2.848070e+05  284807.000000   \n",
       "mean   1.426896e-15  1.701640e-15 -3.662252e-16 -1.217809e-16      88.349619   \n",
       "std    5.212781e-01  4.822270e-01  4.036325e-01  3.300833e-01     250.120109   \n",
       "min   -1.029540e+01 -2.604551e+00 -2.256568e+01 -1.543008e+01       0.000000   \n",
       "25%   -3.171451e-01 -3.269839e-01 -7.083953e-02 -5.295979e-02       5.600000   \n",
       "50%    1.659350e-02 -5.213911e-02  1.342146e-03  1.124383e-02      22.000000   \n",
       "75%    3.507156e-01  2.409522e-01  9.104512e-02  7.827995e-02      77.165000   \n",
       "max    7.519589e+00  3.517346e+00  3.161220e+01  3.384781e+01   25691.160000   \n",
       "\n",
       "               Class  \n",
       "count  284807.000000  \n",
       "mean        0.001727  \n",
       "std         0.041527  \n",
       "min         0.000000  \n",
       "25%         0.000000  \n",
       "50%         0.000000  \n",
       "75%         0.000000  \n",
       "max         1.000000  \n",
       "\n",
       "[8 rows x 31 columns]"
      ]
     },
     "execution_count": 5,
     "metadata": {},
     "output_type": "execute_result"
    }
   ],
   "source": [
    "data.describe()"
   ]
  },
  {
   "cell_type": "code",
   "execution_count": 6,
   "id": "953d83be",
   "metadata": {},
   "outputs": [
    {
     "data": {
      "text/plain": [
       "Time      0\n",
       "V1        0\n",
       "V2        0\n",
       "V3        0\n",
       "V4        0\n",
       "V5        0\n",
       "V6        0\n",
       "V7        0\n",
       "V8        0\n",
       "V9        0\n",
       "V10       0\n",
       "V11       0\n",
       "V12       0\n",
       "V13       0\n",
       "V14       0\n",
       "V15       0\n",
       "V16       0\n",
       "V17       0\n",
       "V18       0\n",
       "V19       0\n",
       "V20       0\n",
       "V21       0\n",
       "V22       0\n",
       "V23       0\n",
       "V24       0\n",
       "V25       0\n",
       "V26       0\n",
       "V27       0\n",
       "V28       0\n",
       "Amount    0\n",
       "Class     0\n",
       "dtype: int64"
      ]
     },
     "execution_count": 6,
     "metadata": {},
     "output_type": "execute_result"
    }
   ],
   "source": [
    "data.isnull().sum()"
   ]
  },
  {
   "cell_type": "code",
   "execution_count": 7,
   "id": "cd0db467",
   "metadata": {},
   "outputs": [
    {
     "name": "stdout",
     "output_type": "stream",
     "text": [
      "0.0017304750013189597\n",
      "Fraud Cases: 492\n",
      "Valid Transactions: 284315\n"
     ]
    }
   ],
   "source": [
    "fraud = data[data['Class'] == 1]\n",
    "valid = data[data['Class'] == 0]\n",
    "outlierFraction = len(fraud)/float(len(valid))\n",
    "print(outlierFraction)\n",
    "print('Fraud Cases: {}'.format(len(data[data['Class'] == 1])))\n",
    "print('Valid Transactions: {}'.format(len(data[data['Class'] == 0])))"
   ]
  },
  {
   "cell_type": "code",
   "execution_count": 8,
   "id": "5de31027",
   "metadata": {},
   "outputs": [
    {
     "name": "stdout",
     "output_type": "stream",
     "text": [
      "Amount details of the fraudulent transaction\n"
     ]
    },
    {
     "data": {
      "text/plain": [
       "count     492.000000\n",
       "mean      122.211321\n",
       "std       256.683288\n",
       "min         0.000000\n",
       "25%         1.000000\n",
       "50%         9.250000\n",
       "75%       105.890000\n",
       "max      2125.870000\n",
       "Name: Amount, dtype: float64"
      ]
     },
     "execution_count": 8,
     "metadata": {},
     "output_type": "execute_result"
    }
   ],
   "source": [
    "print('Amount details of the fraudulent transaction')\n",
    "fraud.Amount.describe()"
   ]
  },
  {
   "cell_type": "code",
   "execution_count": 9,
   "id": "66e6fe70",
   "metadata": {},
   "outputs": [
    {
     "name": "stdout",
     "output_type": "stream",
     "text": [
      "details of valid transaction\n"
     ]
    },
    {
     "data": {
      "text/plain": [
       "count    284315.000000\n",
       "mean         88.291022\n",
       "std         250.105092\n",
       "min           0.000000\n",
       "25%           5.650000\n",
       "50%          22.000000\n",
       "75%          77.050000\n",
       "max       25691.160000\n",
       "Name: Amount, dtype: float64"
      ]
     },
     "execution_count": 9,
     "metadata": {},
     "output_type": "execute_result"
    }
   ],
   "source": [
    "print('details of valid transaction')\n",
    "valid.Amount.describe()"
   ]
  },
  {
   "cell_type": "code",
   "execution_count": 10,
   "id": "1f71b8f0",
   "metadata": {},
   "outputs": [
    {
     "data": {
      "image/png": "[encoded data removed]",
      "text/plain": [
       "<Figure size 864x648 with 2 Axes>"
      ]
     },
     "metadata": {
      "needs_background": "light"
     },
     "output_type": "display_data"
    }
   ],
   "source": [
    "# Correlation matrix\n",
    "corrmat = data.corr()\n",
    "fig = plt.figure(figsize = (12, 9))\n",
    "sns.heatmap(corrmat, vmax = .8, square = True)\n",
    "plt.show()\n"
   ]
  },
  {
   "cell_type": "code",
   "execution_count": 11,
   "id": "30585610",
   "metadata": {},
   "outputs": [
    {
     "name": "stdout",
     "output_type": "stream",
     "text": [
      "(284807, 30)\n",
      "(284807,)\n"
     ]
    }
   ],
   "source": [
    "X = data.drop(['Class'], axis = 1)\n",
    "Y = data[\"Class\"]\n",
    "print(X.shape)\n",
    "print(Y.shape)"
   ]
  },
  {
   "cell_type": "markdown",
   "id": "6b079071",
   "metadata": {},
   "source": [
    "### Splitting the data"
   ]
  },
  {
   "cell_type": "code",
   "execution_count": 12,
   "id": "ac90fed6",
   "metadata": {},
   "outputs": [],
   "source": [
    "from sklearn.model_selection import train_test_split\n",
    "xTrain_imb, xTest_imb, yTrain_imb, yTest_imb = train_test_split(X, Y, test_size = 0.2, random_state = 42)\n"
   ]
  },
  {
   "cell_type": "markdown",
   "id": "c58591a8",
   "metadata": {},
   "source": [
    "### Defining Models"
   ]
  },
  {
   "cell_type": "code",
   "execution_count": 13,
   "id": "ee2c452d",
   "metadata": {},
   "outputs": [],
   "source": [
    "from sklearn.ensemble import RandomForestClassifier\n",
    "rfc = RandomForestClassifier()\n",
    "\n",
    "from sklearn.tree import DecisionTreeClassifier\n",
    "dtc = DecisionTreeClassifier(random_state = 1000,max_depth = 4,min_samples_leaf = 1)\n",
    "\n",
    "from sklearn.linear_model import LogisticRegression\n",
    "lg = LogisticRegression(max_iter=10000)\n",
    "\n",
    "from keras.models import Sequential\n",
    "from keras.layers import Dense, Dropout\n",
    "\n",
    "nn = Sequential([Dense(input_dim=30, units=16, activation='relu'),\n",
    "    Dense(units=24, activation='relu'),\n",
    "    Dropout(0.5),\n",
    "    Dense(units=20, activation='relu'),\n",
    "    Dense(units=24, activation='relu'),\n",
    "    Dense(units=1, activation='sigmoid')])"
   ]
  },
  {
   "cell_type": "markdown",
   "id": "db3a9997",
   "metadata": {},
   "source": [
    "#### Method for Model building, Predictions, Classification report and Confusion matrix"
   ]
  },
  {
   "cell_type": "code",
   "execution_count": 14,
   "id": "ab106626",
   "metadata": {},
   "outputs": [],
   "source": [
    "def model_build(model,xtrain,ytrain,xtest,ytest):\n",
    "    \n",
    "    start = time.time()\n",
    "    print(\"Start time: \",time.time())\n",
    "    \n",
    "    if model == nn:\n",
    "        \n",
    "        model.summary()\n",
    "\n",
    "        model.compile(optimizer='adam', loss='binary_crossentropy', metrics=['accuracy'])\n",
    "        model.fit(xtrain, ytrain, batch_size=15, epochs=15)\n",
    "        \n",
    "        ypred1 = model.predict(xtest)\n",
    "        \n",
    "        print(\"Model Score on testing data :\",model.evaluate(xtest, ytest))\n",
    "        print(\"\\n\")\n",
    "        \n",
    "        ypred = []\n",
    "        \n",
    "        for y in ypred1:\n",
    "            \n",
    "            if y > 0.5:\n",
    "                ypred.append(1)\n",
    "            else:\n",
    "                ypred.append(0)\n",
    "    \n",
    "    else:\n",
    "        \n",
    "        model.fit(xtrain,ytrain)\n",
    "        \n",
    "        ypred = model.predict(xtest)\n",
    "        \n",
    "        print(\"Model Score on testing data :\",model.score(xtest,ytest))\n",
    "        print(\"\\n\")\n",
    "    \n",
    "    print(\"Classification report on Testing and Predicted data :\")\n",
    "    print(\"\\n\")\n",
    "    print(classification_report(ytest,ypred))\n",
    "    print()\n",
    "    \n",
    "    LABELS = ['Normal', 'Fraud']\n",
    "    conf_matrix = confusion_matrix(ytest, ypred)\n",
    "    plt.figure(figsize =(12, 12))\n",
    "    \n",
    "    print(\"Confusion matrix of the model :\")\n",
    "    sns.heatmap(conf_matrix, xticklabels = LABELS, yticklabels = LABELS, annot = True, fmt =\"d\");\n",
    "    \n",
    "    plt.title(\"Confusion matrix\")\n",
    "    plt.ylabel('True class')\n",
    "    plt.xlabel('Predicted class')\n",
    "    plt.show()\n",
    "    \n",
    "    end = time.time()\n",
    "    print(\"End time: \", time.time())\n",
    "    \n",
    "    print(\"Total Time taken :\", end-start)"
   ]
  },
  {
   "cell_type": "markdown",
   "id": "f9c0fb41",
   "metadata": {},
   "source": [
    "### Prediction on Imbalanced dataset"
   ]
  },
  {
   "cell_type": "markdown",
   "id": "d16421b3",
   "metadata": {},
   "source": [
    "#### i) Using Random Forest\n"
   ]
  },
  {
   "cell_type": "code",
   "execution_count": 15,
   "id": "783b8ea2",
   "metadata": {},
   "outputs": [
    {
     "name": "stdout",
     "output_type": "stream",
     "text": [
      "Start time:  1693851574.4654398\n",
      "Model Score on testing data : 0.9995611109160493\n",
      "\n",
      "\n",
      "Classification report on Testing and Predicted data :\n",
      "\n",
      "\n",
      "              precision    recall  f1-score   support\n",
      "\n",
      "           0       1.00      1.00      1.00     56864\n",
      "           1       0.97      0.77      0.86        98\n",
      "\n",
      "    accuracy                           1.00     56962\n",
      "   macro avg       0.99      0.88      0.93     56962\n",
      "weighted avg       1.00      1.00      1.00     56962\n",
      "\n",
      "\n",
      "Confusion matrix of the model :\n"
     ]
    },
    {
     "data": {
      "image/png": "[encoded data removed]",
      "text/plain": [
       "<Figure size 864x864 with 2 Axes>"
      ]
     },
     "metadata": {
      "needs_background": "light"
     },
     "output_type": "display_data"
    },
    {
     "name": "stdout",
     "output_type": "stream",
     "text": [
      "End time:  1693851785.9772105\n",
      "Total Time taken : 211.51177072525024\n"
     ]
    }
   ],
   "source": [
    "model_build(rfc,xTrain_imb,yTrain_imb,xTest_imb,yTest_imb)"
   ]
  },
  {
   "cell_type": "markdown",
   "id": "acc72fa6",
   "metadata": {},
   "source": [
    "#### ii) Using Decision Tree"
   ]
  },
  {
   "cell_type": "code",
   "execution_count": 16,
   "id": "6bddd4ed",
   "metadata": {},
   "outputs": [
    {
     "name": "stdout",
     "output_type": "stream",
     "text": [
      "Start time:  1693851798.7599943\n",
      "Model Score on testing data : 0.999420666409185\n",
      "\n",
      "\n",
      "Classification report on Testing and Predicted data :\n",
      "\n",
      "\n",
      "              precision    recall  f1-score   support\n",
      "\n",
      "           0       1.00      1.00      1.00     56864\n",
      "           1       0.84      0.82      0.83        98\n",
      "\n",
      "    accuracy                           1.00     56962\n",
      "   macro avg       0.92      0.91      0.91     56962\n",
      "weighted avg       1.00      1.00      1.00     56962\n",
      "\n",
      "\n",
      "Confusion matrix of the model :\n"
     ]
    },
    {
     "data": {
      "image/png": "[encoded data removed]",
      "text/plain": [
       "<Figure size 864x864 with 2 Axes>"
      ]
     },
     "metadata": {
      "needs_background": "light"
     },
     "output_type": "display_data"
    },
    {
     "name": "stdout",
     "output_type": "stream",
     "text": [
      "End time:  1693851803.3082523\n",
      "Total Time taken : 4.548258066177368\n"
     ]
    }
   ],
   "source": [
    "model_build(dtc,xTrain_imb,yTrain_imb,xTest_imb,yTest_imb)"
   ]
  },
  {
   "cell_type": "markdown",
   "id": "2faf7986",
   "metadata": {},
   "source": [
    "#### iii) Using Logistic Regression"
   ]
  },
  {
   "cell_type": "code",
   "execution_count": 17,
   "id": "610cccb1",
   "metadata": {},
   "outputs": [
    {
     "name": "stdout",
     "output_type": "stream",
     "text": [
      "Start time:  1693851809.2399247\n",
      "Model Score on testing data : 0.9989291106351603\n",
      "\n",
      "\n",
      "Classification report on Testing and Predicted data :\n",
      "\n",
      "\n",
      "              precision    recall  f1-score   support\n",
      "\n",
      "           0       1.00      1.00      1.00     56864\n",
      "           1       0.80      0.50      0.62        98\n",
      "\n",
      "    accuracy                           1.00     56962\n",
      "   macro avg       0.90      0.75      0.81     56962\n",
      "weighted avg       1.00      1.00      1.00     56962\n",
      "\n",
      "\n",
      "Confusion matrix of the model :\n"
     ]
    },
    {
     "data": {
      "image/png": "[encoded data removed]",
      "text/plain": [
       "<Figure size 864x864 with 2 Axes>"
      ]
     },
     "metadata": {
      "needs_background": "light"
     },
     "output_type": "display_data"
    },
    {
     "name": "stdout",
     "output_type": "stream",
     "text": [
      "End time:  1693851834.3075247\n",
      "Total Time taken : 25.06760001182556\n"
     ]
    }
   ],
   "source": [
    "model_build(lg,xTrain_imb,yTrain_imb,xTest_imb,yTest_imb)"
   ]
  },
  {
   "cell_type": "markdown",
   "id": "3303beee",
   "metadata": {},
   "source": [
    "#### iv) Using Neural Network"
   ]
  },
  {
   "cell_type": "code",
   "execution_count": 26,
   "id": "4ea4b805",
   "metadata": {},
   "outputs": [
    {
     "name": "stdout",
     "output_type": "stream",
     "text": [
      "Start time:  1693853544.1774964\n",
      "Model: \"sequential\"\n",
      "_________________________________________________________________\n",
      " Layer (type)                Output Shape              Param #   \n",
      "=================================================================\n",
      " dense (Dense)               (None, 16)                496       \n",
      "                                                                 \n",
      " dense_1 (Dense)             (None, 24)                408       \n",
      "                                                                 \n",
      " dropout (Dropout)           (None, 24)                0         \n",
      "                                                                 \n",
      " dense_2 (Dense)             (None, 20)                500       \n",
      "                                                                 \n",
      " dense_3 (Dense)             (None, 24)                504       \n",
      "                                                                 \n",
      " dense_4 (Dense)             (None, 1)                 25        \n",
      "                                                                 \n",
      "=================================================================\n",
      "Total params: 1933 (7.55 KB)\n",
      "Trainable params: 1933 (7.55 KB)\n",
      "Non-trainable params: 0 (0.00 Byte)\n",
      "_________________________________________________________________\n",
      "Epoch 1/15\n",
      "15190/15190 [==============================] - 24s 2ms/step - loss: 3.1870 - accuracy: 0.9968\n",
      "Epoch 2/15\n",
      "15190/15190 [==============================] - 25s 2ms/step - loss: 0.0208 - accuracy: 0.9982\n",
      "Epoch 3/15\n",
      "15190/15190 [==============================] - 24s 2ms/step - loss: 0.0253 - accuracy: 0.9982\n",
      "Epoch 4/15\n",
      "15190/15190 [==============================] - 26s 2ms/step - loss: 0.0301 - accuracy: 0.9982\n",
      "Epoch 5/15\n",
      "15190/15190 [==============================] - 27s 2ms/step - loss: 0.0237 - accuracy: 0.9982\n",
      "Epoch 6/15\n",
      "15190/15190 [==============================] - 25s 2ms/step - loss: 0.0232 - accuracy: 0.9982\n",
      "Epoch 7/15\n",
      "15190/15190 [==============================] - 25s 2ms/step - loss: 0.0174 - accuracy: 0.9982\n",
      "Epoch 8/15\n",
      "15190/15190 [==============================] - 26s 2ms/step - loss: 0.0282 - accuracy: 0.9982\n",
      "Epoch 9/15\n",
      "15190/15190 [==============================] - 26s 2ms/step - loss: 0.0150 - accuracy: 0.9983\n",
      "Epoch 10/15\n",
      "15190/15190 [==============================] - 25s 2ms/step - loss: 0.0233 - accuracy: 0.9982\n",
      "Epoch 11/15\n",
      "15190/15190 [==============================] - 27s 2ms/step - loss: 0.0462 - accuracy: 0.9982\n",
      "Epoch 12/15\n",
      "15190/15190 [==============================] - 26s 2ms/step - loss: 0.0195 - accuracy: 0.9982\n",
      "Epoch 13/15\n",
      "15190/15190 [==============================] - 26s 2ms/step - loss: 0.0291 - accuracy: 0.9982\n",
      "Epoch 14/15\n",
      "15190/15190 [==============================] - 25s 2ms/step - loss: 0.0173 - accuracy: 0.9982\n",
      "Epoch 15/15\n",
      "15190/15190 [==============================] - 25s 2ms/step - loss: 0.0169 - accuracy: 0.9983\n",
      "1781/1781 [==============================] - 2s 1ms/step\n",
      "1781/1781 [==============================] - 2s 1ms/step - loss: 0.0128 - accuracy: 0.9983\n",
      "Model Score on testing data : [0.012789235450327396, 0.9982795715332031]\n",
      "\n",
      "\n",
      "Classification report on Testing and Predicted data :\n",
      "\n",
      "\n",
      "              precision    recall  f1-score   support\n",
      "\n",
      "           0       1.00      1.00      1.00     56864\n",
      "           1       0.00      0.00      0.00        98\n",
      "\n",
      "    accuracy                           1.00     56962\n",
      "   macro avg       0.50      0.50      0.50     56962\n",
      "weighted avg       1.00      1.00      1.00     56962\n",
      "\n",
      "\n",
      "Confusion matrix of the model :\n"
     ]
    },
    {
     "data": {
      "image/png": "[encoded data removed]",
      "text/plain": [
       "<Figure size 864x864 with 2 Axes>"
      ]
     },
     "metadata": {
      "needs_background": "light"
     },
     "output_type": "display_data"
    },
    {
     "name": "stdout",
     "output_type": "stream",
     "text": [
      "End time:  1693853931.7323735\n",
      "Total Time taken : 387.5548770427704\n"
     ]
    }
   ],
   "source": [
    "model_build(nn,xTrain_imb,yTrain_imb,xTest_imb,yTest_imb)"
   ]
  },
  {
   "cell_type": "markdown",
   "id": "0116cb4a",
   "metadata": {},
   "source": [
    "## Prediction on balanced dataset"
   ]
  },
  {
   "cell_type": "markdown",
   "id": "19ac301b",
   "metadata": {},
   "source": [
    "### 1. Using Random Oversampling"
   ]
  },
  {
   "cell_type": "code",
   "execution_count": 28,
   "id": "959b31d5",
   "metadata": {},
   "outputs": [],
   "source": [
    "from imblearn.over_sampling import RandomOverSampler\n",
    "\n",
    "ros = RandomOverSampler(random_state=42)\n",
    "xTrain_ros, yTrain_ros = ros.fit_resample(xTrain_imb, yTrain_imb)"
   ]
  },
  {
   "cell_type": "markdown",
   "id": "3db3994f",
   "metadata": {},
   "source": [
    "#### i) Using Random Forest"
   ]
  },
  {
   "cell_type": "code",
   "execution_count": 21,
   "id": "f1274c05",
   "metadata": {},
   "outputs": [
    {
     "name": "stdout",
     "output_type": "stream",
     "text": [
      "Start time:  1693825721.352294\n",
      "Model Score on testing data : 0.9995962220427653\n",
      "\n",
      "\n",
      "Classification report on Testing and Predicted data :\n",
      "\n",
      "\n",
      "              precision    recall  f1-score   support\n",
      "\n",
      "           0       1.00      1.00      1.00     56864\n",
      "           1       0.99      0.78      0.87        98\n",
      "\n",
      "    accuracy                           1.00     56962\n",
      "   macro avg       0.99      0.89      0.93     56962\n",
      "weighted avg       1.00      1.00      1.00     56962\n",
      "\n",
      "\n",
      "Confusion matrix of the model :\n"
     ]
    },
    {
     "data": {
      "image/png": "[encoded data removed]",
      "text/plain": [
       "<Figure size 864x864 with 2 Axes>"
      ]
     },
     "metadata": {
      "needs_background": "light"
     },
     "output_type": "display_data"
    },
    {
     "name": "stdout",
     "output_type": "stream",
     "text": [
      "End time:  1693825966.2171283\n",
      "Total Time taken : 244.86483430862427\n"
     ]
    }
   ],
   "source": [
    "model_build(rfc,xTrain_ros,yTrain_ros,xTest_imb,yTest_imb)"
   ]
  },
  {
   "cell_type": "markdown",
   "id": "45bcfe08",
   "metadata": {},
   "source": [
    "#### ii) Using Decision Tree"
   ]
  },
  {
   "cell_type": "code",
   "execution_count": 22,
   "id": "b31f563f",
   "metadata": {},
   "outputs": [
    {
     "name": "stdout",
     "output_type": "stream",
     "text": [
      "Start time:  1693825992.7060616\n",
      "Model Score on testing data : 0.9995962220427653\n",
      "\n",
      "\n",
      "Classification report on Testing and Predicted data :\n",
      "\n",
      "\n",
      "              precision    recall  f1-score   support\n",
      "\n",
      "           0       1.00      1.00      1.00     56864\n",
      "           1       0.97      0.79      0.87        98\n",
      "\n",
      "    accuracy                           1.00     56962\n",
      "   macro avg       0.99      0.89      0.93     56962\n",
      "weighted avg       1.00      1.00      1.00     56962\n",
      "\n",
      "\n",
      "Confusion matrix of the model :\n"
     ]
    },
    {
     "data": {
      "image/png": "[encoded data removed]",
      "text/plain": [
       "<Figure size 864x864 with 2 Axes>"
      ]
     },
     "metadata": {
      "needs_background": "light"
     },
     "output_type": "display_data"
    },
    {
     "name": "stdout",
     "output_type": "stream",
     "text": [
      "End time:  1693826209.0520096\n",
      "Total Time taken : 216.34594798088074\n"
     ]
    }
   ],
   "source": [
    "model_build(rfc,xTrain_ros,yTrain_ros,xTest_imb,yTest_imb)"
   ]
  },
  {
   "cell_type": "markdown",
   "id": "6f255c23",
   "metadata": {},
   "source": [
    "#### iii) Using Logistic Regression"
   ]
  },
  {
   "cell_type": "code",
   "execution_count": 23,
   "id": "76e54a34",
   "metadata": {},
   "outputs": [
    {
     "name": "stdout",
     "output_type": "stream",
     "text": [
      "Start time:  1693826296.9618971\n",
      "Model Score on testing data : 0.9677153189845862\n",
      "\n",
      "\n",
      "Classification report on Testing and Predicted data :\n",
      "\n",
      "\n",
      "              precision    recall  f1-score   support\n",
      "\n",
      "           0       1.00      0.97      0.98     56864\n",
      "           1       0.05      0.93      0.09        98\n",
      "\n",
      "    accuracy                           0.97     56962\n",
      "   macro avg       0.52      0.95      0.54     56962\n",
      "weighted avg       1.00      0.97      0.98     56962\n",
      "\n",
      "\n",
      "Confusion matrix of the model :\n"
     ]
    },
    {
     "data": {
      "image/png": "[encoded data removed]",
      "text/plain": [
       "<Figure size 864x864 with 2 Axes>"
      ]
     },
     "metadata": {
      "needs_background": "light"
     },
     "output_type": "display_data"
    },
    {
     "name": "stdout",
     "output_type": "stream",
     "text": [
      "End time:  1693826306.001363\n",
      "Total Time taken : 9.03946590423584\n"
     ]
    }
   ],
   "source": [
    "model_build(lg,xTrain_ros,yTrain_ros,xTest_imb,yTest_imb)"
   ]
  },
  {
   "cell_type": "markdown",
   "id": "611cfe4f",
   "metadata": {},
   "source": [
    "#### iv) Using Neural Network"
   ]
  },
  {
   "cell_type": "code",
   "execution_count": 29,
   "id": "5bd9ded0",
   "metadata": {},
   "outputs": [
    {
     "name": "stdout",
     "output_type": "stream",
     "text": [
      "Start time:  1693854259.3297918\n",
      "Model: \"sequential\"\n",
      "_________________________________________________________________\n",
      " Layer (type)                Output Shape              Param #   \n",
      "=================================================================\n",
      " dense (Dense)               (None, 16)                496       \n",
      "                                                                 \n",
      " dense_1 (Dense)             (None, 24)                408       \n",
      "                                                                 \n",
      " dropout (Dropout)           (None, 24)                0         \n",
      "                                                                 \n",
      " dense_2 (Dense)             (None, 20)                500       \n",
      "                                                                 \n",
      " dense_3 (Dense)             (None, 24)                504       \n",
      "                                                                 \n",
      " dense_4 (Dense)             (None, 1)                 25        \n",
      "                                                                 \n",
      "=================================================================\n",
      "Total params: 1933 (7.55 KB)\n",
      "Trainable params: 1933 (7.55 KB)\n",
      "Non-trainable params: 0 (0.00 Byte)\n",
      "_________________________________________________________________\n",
      "Epoch 1/15\n",
      "30327/30327 [==============================] - 51s 2ms/step - loss: 0.7030 - accuracy: 0.4986\n",
      "Epoch 2/15\n",
      "30327/30327 [==============================] - 53s 2ms/step - loss: 0.6939 - accuracy: 0.4992\n",
      "Epoch 3/15\n",
      "30327/30327 [==============================] - 52s 2ms/step - loss: 0.6938 - accuracy: 0.5010\n",
      "Epoch 4/15\n",
      "30327/30327 [==============================] - 52s 2ms/step - loss: 0.6941 - accuracy: 0.4985\n",
      "Epoch 5/15\n",
      "30327/30327 [==============================] - 50s 2ms/step - loss: 0.7032 - accuracy: 0.5010\n",
      "Epoch 6/15\n",
      "30327/30327 [==============================] - 49s 2ms/step - loss: 0.6945 - accuracy: 0.5015\n",
      "Epoch 7/15\n",
      "30327/30327 [==============================] - 53s 2ms/step - loss: 0.6947 - accuracy: 0.5006\n",
      "Epoch 8/15\n",
      "30327/30327 [==============================] - 53s 2ms/step - loss: 0.6917 - accuracy: 0.5009\n",
      "Epoch 9/15\n",
      "30327/30327 [==============================] - 55s 2ms/step - loss: 0.6914 - accuracy: 0.5026\n",
      "Epoch 10/15\n",
      "30327/30327 [==============================] - 49s 2ms/step - loss: 0.6943 - accuracy: 0.5027\n",
      "Epoch 11/15\n",
      "30327/30327 [==============================] - 49s 2ms/step - loss: 0.6906 - accuracy: 0.5027\n",
      "Epoch 12/15\n",
      "30327/30327 [==============================] - 49s 2ms/step - loss: 0.6908 - accuracy: 0.5034\n",
      "Epoch 13/15\n",
      "30327/30327 [==============================] - 48s 2ms/step - loss: 0.6916 - accuracy: 0.5037\n",
      "Epoch 14/15\n",
      "30327/30327 [==============================] - 49s 2ms/step - loss: 0.6899 - accuracy: 0.5065\n",
      "Epoch 15/15\n",
      "30327/30327 [==============================] - 49s 2ms/step - loss: 0.6894 - accuracy: 0.5052\n",
      "1781/1781 [==============================] - 2s 1ms/step\n",
      "1781/1781 [==============================] - 2s 1ms/step - loss: 0.6964 - accuracy: 0.0279\n",
      "Model Score on testing data : [0.6964249014854431, 0.02793090045452118]\n",
      "\n",
      "\n",
      "Classification report on Testing and Predicted data :\n",
      "\n",
      "\n",
      "              precision    recall  f1-score   support\n",
      "\n",
      "           0       1.00      0.03      0.05     56864\n",
      "           1       0.00      0.98      0.00        98\n",
      "\n",
      "    accuracy                           0.03     56962\n",
      "   macro avg       0.50      0.50      0.03     56962\n",
      "weighted avg       1.00      0.03      0.05     56962\n",
      "\n",
      "\n",
      "Confusion matrix of the model :\n"
     ]
    },
    {
     "data": {
      "image/png": "[encoded data removed]",
      "text/plain": [
       "<Figure size 864x864 with 2 Axes>"
      ]
     },
     "metadata": {
      "needs_background": "light"
     },
     "output_type": "display_data"
    },
    {
     "name": "stdout",
     "output_type": "stream",
     "text": [
      "End time:  1693855024.7115893\n",
      "Total Time taken : 765.3817975521088\n"
     ]
    }
   ],
   "source": [
    "model_build(nn,xTrain_ros,yTrain_ros,xTest_imb,yTest_imb)"
   ]
  },
  {
   "cell_type": "markdown",
   "id": "553b8931",
   "metadata": {},
   "source": [
    "### 2. Using SMOTE(Synthetic Minority Oversampling Technique)"
   ]
  },
  {
   "cell_type": "code",
   "execution_count": 18,
   "id": "7926e6ba",
   "metadata": {},
   "outputs": [],
   "source": [
    "from imblearn.over_sampling import SMOTE\n",
    "\n",
    "smote  = SMOTE(random_state=42)\n",
    "xTrain_sm, yTrain_sm = smote.fit_resample(xTrain_imb,yTrain_imb)"
   ]
  },
  {
   "cell_type": "markdown",
   "id": "67cfa395",
   "metadata": {},
   "source": [
    "#### i) Using Random Forest"
   ]
  },
  {
   "cell_type": "code",
   "execution_count": 19,
   "id": "1cb63c97",
   "metadata": {},
   "outputs": [
    {
     "name": "stdout",
     "output_type": "stream",
     "text": [
      "Start time:  1693851853.7599406\n",
      "Model Score on testing data : 0.9995084442259752\n",
      "\n",
      "\n",
      "Classification report on Testing and Predicted data :\n",
      "\n",
      "\n",
      "              precision    recall  f1-score   support\n",
      "\n",
      "           0       1.00      1.00      1.00     56864\n",
      "           1       0.87      0.84      0.85        98\n",
      "\n",
      "    accuracy                           1.00     56962\n",
      "   macro avg       0.94      0.92      0.93     56962\n",
      "weighted avg       1.00      1.00      1.00     56962\n",
      "\n",
      "\n",
      "Confusion matrix of the model :\n"
     ]
    },
    {
     "data": {
      "image/png": "[encoded data removed]",
      "text/plain": [
       "<Figure size 864x864 with 2 Axes>"
      ]
     },
     "metadata": {
      "needs_background": "light"
     },
     "output_type": "display_data"
    },
    {
     "name": "stdout",
     "output_type": "stream",
     "text": [
      "End time:  1693852262.5815098\n",
      "Total Time taken : 408.82156920433044\n"
     ]
    }
   ],
   "source": [
    "model_build(rfc,xTrain_sm,yTrain_sm,xTest_imb,yTest_imb)"
   ]
  },
  {
   "cell_type": "markdown",
   "id": "b07600f5",
   "metadata": {},
   "source": [
    "#### ii) Using Decision Tree"
   ]
  },
  {
   "cell_type": "code",
   "execution_count": 20,
   "id": "c420d331",
   "metadata": {},
   "outputs": [
    {
     "name": "stdout",
     "output_type": "stream",
     "text": [
      "Start time:  1693852847.4897065\n",
      "Model Score on testing data : 0.9860257715670095\n",
      "\n",
      "\n",
      "Classification report on Testing and Predicted data :\n",
      "\n",
      "\n",
      "              precision    recall  f1-score   support\n",
      "\n",
      "           0       1.00      0.99      0.99     56864\n",
      "           1       0.10      0.85      0.17        98\n",
      "\n",
      "    accuracy                           0.99     56962\n",
      "   macro avg       0.55      0.92      0.58     56962\n",
      "weighted avg       1.00      0.99      0.99     56962\n",
      "\n",
      "\n",
      "Confusion matrix of the model :\n"
     ]
    },
    {
     "data": {
      "image/png": "[encoded data removed]",
      "text/plain": [
       "<Figure size 864x864 with 2 Axes>"
      ]
     },
     "metadata": {
      "needs_background": "light"
     },
     "output_type": "display_data"
    },
    {
     "name": "stdout",
     "output_type": "stream",
     "text": [
      "End time:  1693852856.0406585\n",
      "Total Time taken : 8.550951957702637\n"
     ]
    }
   ],
   "source": [
    "model_build(dtc,xTrain_sm,yTrain_sm,xTest_imb,yTest_imb)"
   ]
  },
  {
   "cell_type": "markdown",
   "id": "4ee0f5bf",
   "metadata": {},
   "source": [
    "#### iii) Using Logistic Regression"
   ]
  },
  {
   "cell_type": "code",
   "execution_count": 21,
   "id": "41074d56",
   "metadata": {},
   "outputs": [
    {
     "name": "stdout",
     "output_type": "stream",
     "text": [
      "Start time:  1693852869.1915293\n",
      "Model Score on testing data : 0.9840946595976265\n",
      "\n",
      "\n",
      "Classification report on Testing and Predicted data :\n",
      "\n",
      "\n",
      "              precision    recall  f1-score   support\n",
      "\n",
      "           0       1.00      0.98      0.99     56864\n",
      "           1       0.09      0.89      0.16        98\n",
      "\n",
      "    accuracy                           0.98     56962\n",
      "   macro avg       0.54      0.94      0.58     56962\n",
      "weighted avg       1.00      0.98      0.99     56962\n",
      "\n",
      "\n",
      "Confusion matrix of the model :\n"
     ]
    },
    {
     "data": {
      "image/png": "[encoded data removed]",
      "text/plain": [
       "<Figure size 864x864 with 2 Axes>"
      ]
     },
     "metadata": {
      "needs_background": "light"
     },
     "output_type": "display_data"
    },
    {
     "name": "stdout",
     "output_type": "stream",
     "text": [
      "End time:  1693852877.7684786\n",
      "Total Time taken : 8.57694935798645\n"
     ]
    }
   ],
   "source": [
    "model_build(lg,xTrain_sm,yTrain_sm,xTest_imb,yTest_imb)"
   ]
  },
  {
   "cell_type": "markdown",
   "id": "209f5cbd",
   "metadata": {},
   "source": [
    "#### iv) Using Neural Network"
   ]
  },
  {
   "cell_type": "code",
   "execution_count": 31,
   "id": "39978e19",
   "metadata": {},
   "outputs": [
    {
     "name": "stdout",
     "output_type": "stream",
     "text": [
      "Start time:  1693855398.4979842\n",
      "Model: \"sequential\"\n",
      "_________________________________________________________________\n",
      " Layer (type)                Output Shape              Param #   \n",
      "=================================================================\n",
      " dense (Dense)               (None, 16)                496       \n",
      "                                                                 \n",
      " dense_1 (Dense)             (None, 24)                408       \n",
      "                                                                 \n",
      " dropout (Dropout)           (None, 24)                0         \n",
      "                                                                 \n",
      " dense_2 (Dense)             (None, 20)                500       \n",
      "                                                                 \n",
      " dense_3 (Dense)             (None, 24)                504       \n",
      "                                                                 \n",
      " dense_4 (Dense)             (None, 1)                 25        \n",
      "                                                                 \n",
      "=================================================================\n",
      "Total params: 1933 (7.55 KB)\n",
      "Trainable params: 1933 (7.55 KB)\n",
      "Non-trainable params: 0 (0.00 Byte)\n",
      "_________________________________________________________________\n",
      "Epoch 1/15\n",
      "30327/30327 [==============================] - 52s 2ms/step - loss: 0.7024 - accuracy: 0.5001\n",
      "Epoch 2/15\n",
      "30327/30327 [==============================] - 51s 2ms/step - loss: 0.6945 - accuracy: 0.5015\n",
      "Epoch 3/15\n",
      "30327/30327 [==============================] - 50s 2ms/step - loss: 0.6942 - accuracy: 0.4998\n",
      "Epoch 4/15\n",
      "30327/30327 [==============================] - 50s 2ms/step - loss: 0.6935 - accuracy: 0.5004\n",
      "Epoch 5/15\n",
      "30327/30327 [==============================] - 49s 2ms/step - loss: 0.6990 - accuracy: 0.5005\n",
      "Epoch 6/15\n",
      "30327/30327 [==============================] - 51s 2ms/step - loss: 0.7041 - accuracy: 0.5011\n",
      "Epoch 7/15\n",
      "30327/30327 [==============================] - 52s 2ms/step - loss: 0.6990 - accuracy: 0.5000\n",
      "Epoch 8/15\n",
      "30327/30327 [==============================] - 52s 2ms/step - loss: 0.6948 - accuracy: 0.5001\n",
      "Epoch 9/15\n",
      "30327/30327 [==============================] - 51s 2ms/step - loss: 0.6950 - accuracy: 0.4990\n",
      "Epoch 10/15\n",
      "30327/30327 [==============================] - 50s 2ms/step - loss: 0.7066 - accuracy: 0.5002\n",
      "Epoch 11/15\n",
      "30327/30327 [==============================] - 49s 2ms/step - loss: 0.6996 - accuracy: 0.4998\n",
      "Epoch 12/15\n",
      "30327/30327 [==============================] - 50s 2ms/step - loss: 0.7299 - accuracy: 0.5020\n",
      "Epoch 13/15\n",
      "30327/30327 [==============================] - 49s 2ms/step - loss: 0.6930 - accuracy: 0.5011\n",
      "Epoch 14/15\n",
      "30327/30327 [==============================] - 49s 2ms/step - loss: 0.6948 - accuracy: 0.4998\n",
      "Epoch 15/15\n",
      "30327/30327 [==============================] - 50s 2ms/step - loss: 0.6934 - accuracy: 0.4999\n",
      "1781/1781 [==============================] - 2s 1ms/step\n",
      "1781/1781 [==============================] - 3s 1ms/step - loss: 0.7136 - accuracy: 0.0054\n",
      "Model Score on testing data : [0.7136003375053406, 0.005372002255171537]\n",
      "\n",
      "\n",
      "Classification report on Testing and Predicted data :\n",
      "\n",
      "\n",
      "              precision    recall  f1-score   support\n",
      "\n",
      "           0       1.00      0.00      0.01     56864\n",
      "           1       0.00      1.00      0.00        98\n",
      "\n",
      "    accuracy                           0.01     56962\n",
      "   macro avg       0.50      0.50      0.01     56962\n",
      "weighted avg       1.00      0.01      0.01     56962\n",
      "\n",
      "\n",
      "Confusion matrix of the model :\n"
     ]
    },
    {
     "data": {
      "image/png": "[encoded data removed]",
      "text/plain": [
       "<Figure size 864x864 with 2 Axes>"
      ]
     },
     "metadata": {
      "needs_background": "light"
     },
     "output_type": "display_data"
    },
    {
     "name": "stdout",
     "output_type": "stream",
     "text": [
      "End time:  1693856159.504382\n",
      "Total Time taken : 761.0063977241516\n"
     ]
    }
   ],
   "source": [
    "model_build(nn,xTrain_sm,yTrain_sm,xTest_imb,yTest_imb)"
   ]
  },
  {
   "cell_type": "markdown",
   "id": "9fbaa399",
   "metadata": {},
   "source": [
    "### 3. Using ADASYN (Adaptive Synthetic)"
   ]
  },
  {
   "cell_type": "code",
   "execution_count": 22,
   "id": "6b1c504b",
   "metadata": {},
   "outputs": [],
   "source": [
    "from imblearn.over_sampling import ADASYN\n",
    "adasyn = ADASYN(random_state=42)\n",
    "\n",
    "xTrain_ada, yTrain_ada = adasyn.fit_resample(xTrain_imb, yTrain_imb)"
   ]
  },
  {
   "cell_type": "markdown",
   "id": "9cc00b60",
   "metadata": {},
   "source": [
    "#### i) Using Random Forest"
   ]
  },
  {
   "cell_type": "code",
   "execution_count": 25,
   "id": "4601c707",
   "metadata": {},
   "outputs": [
    {
     "name": "stdout",
     "output_type": "stream",
     "text": [
      "Start time:  1693852972.9301026\n",
      "Model Score on testing data : 0.9995435553526912\n",
      "\n",
      "\n",
      "Classification report on Testing and Predicted data :\n",
      "\n",
      "\n",
      "              precision    recall  f1-score   support\n",
      "\n",
      "           0       1.00      1.00      1.00     56864\n",
      "           1       0.88      0.85      0.86        98\n",
      "\n",
      "    accuracy                           1.00     56962\n",
      "   macro avg       0.94      0.92      0.93     56962\n",
      "weighted avg       1.00      1.00      1.00     56962\n",
      "\n",
      "\n",
      "Confusion matrix of the model :\n"
     ]
    },
    {
     "data": {
      "image/png": "[encoded data removed]",
      "text/plain": [
       "<Figure size 864x864 with 2 Axes>"
      ]
     },
     "metadata": {
      "needs_background": "light"
     },
     "output_type": "display_data"
    },
    {
     "name": "stdout",
     "output_type": "stream",
     "text": [
      "End time:  1693853352.0607448\n",
      "Total Time taken : 379.13064217567444\n"
     ]
    }
   ],
   "source": [
    "model_build(rfc,xTrain_ada,yTrain_ada,xTest_imb,yTest_imb)"
   ]
  },
  {
   "cell_type": "markdown",
   "id": "25edebb3",
   "metadata": {},
   "source": [
    "#### ii) Using Descision Tree"
   ]
  },
  {
   "cell_type": "code",
   "execution_count": 23,
   "id": "95f46a53",
   "metadata": {},
   "outputs": [
    {
     "name": "stdout",
     "output_type": "stream",
     "text": [
      "Start time:  1693852892.5518475\n",
      "Model Score on testing data : 0.9877813279028124\n",
      "\n",
      "\n",
      "Classification report on Testing and Predicted data :\n",
      "\n",
      "\n",
      "              precision    recall  f1-score   support\n",
      "\n",
      "           0       1.00      0.99      0.99     56864\n",
      "           1       0.11      0.85      0.19        98\n",
      "\n",
      "    accuracy                           0.99     56962\n",
      "   macro avg       0.55      0.92      0.59     56962\n",
      "weighted avg       1.00      0.99      0.99     56962\n",
      "\n",
      "\n",
      "Confusion matrix of the model :\n"
     ]
    },
    {
     "data": {
      "image/png": "[encoded data removed]",
      "text/plain": [
       "<Figure size 864x864 with 2 Axes>"
      ]
     },
     "metadata": {
      "needs_background": "light"
     },
     "output_type": "display_data"
    },
    {
     "name": "stdout",
     "output_type": "stream",
     "text": [
      "End time:  1693852901.130674\n",
      "Total Time taken : 8.578826427459717\n"
     ]
    }
   ],
   "source": [
    "model_build(dtc,xTrain_ada,yTrain_ada,xTest_imb,yTest_imb)"
   ]
  },
  {
   "cell_type": "markdown",
   "id": "20d42010",
   "metadata": {},
   "source": [
    "#### iii) Using Logistic Regression"
   ]
  },
  {
   "cell_type": "code",
   "execution_count": 24,
   "id": "c8767742",
   "metadata": {},
   "outputs": [
    {
     "name": "stdout",
     "output_type": "stream",
     "text": [
      "Start time:  1693852906.6566627\n",
      "Model Score on testing data : 0.9798637688283417\n",
      "\n",
      "\n",
      "Classification report on Testing and Predicted data :\n",
      "\n",
      "\n",
      "              precision    recall  f1-score   support\n",
      "\n",
      "           0       1.00      0.98      0.99     56864\n",
      "           1       0.07      0.90      0.13        98\n",
      "\n",
      "    accuracy                           0.98     56962\n",
      "   macro avg       0.54      0.94      0.56     56962\n",
      "weighted avg       1.00      0.98      0.99     56962\n",
      "\n",
      "\n",
      "Confusion matrix of the model :\n"
     ]
    },
    {
     "data": {
      "image/png": "[encoded data removed]",
      "text/plain": [
       "<Figure size 864x864 with 2 Axes>"
      ]
     },
     "metadata": {
      "needs_background": "light"
     },
     "output_type": "display_data"
    },
    {
     "name": "stdout",
     "output_type": "stream",
     "text": [
      "End time:  1693852911.901327\n",
      "Total Time taken : 5.244664192199707\n"
     ]
    }
   ],
   "source": [
    "model_build(lg,xTrain_ada,yTrain_ada,xTest_imb,yTest_imb)"
   ]
  },
  {
   "cell_type": "markdown",
   "id": "1b4ddc0d",
   "metadata": {},
   "source": [
    "#### iv) Using Neural Network"
   ]
  },
  {
   "cell_type": "code",
   "execution_count": 30,
   "id": "07a0fd89",
   "metadata": {},
   "outputs": [
    {
     "name": "stdout",
     "output_type": "stream",
     "text": [
      "Start time:  1693855024.7272143\n",
      "Model: \"sequential\"\n",
      "_________________________________________________________________\n",
      " Layer (type)                Output Shape              Param #   \n",
      "=================================================================\n",
      " dense (Dense)               (None, 16)                496       \n",
      "                                                                 \n",
      " dense_1 (Dense)             (None, 24)                408       \n",
      "                                                                 \n",
      " dropout (Dropout)           (None, 24)                0         \n",
      "                                                                 \n",
      " dense_2 (Dense)             (None, 20)                500       \n",
      "                                                                 \n",
      " dense_3 (Dense)             (None, 24)                504       \n",
      "                                                                 \n",
      " dense_4 (Dense)             (None, 1)                 25        \n",
      "                                                                 \n",
      "=================================================================\n",
      "Total params: 1933 (7.55 KB)\n",
      "Trainable params: 1933 (7.55 KB)\n",
      "Non-trainable params: 0 (0.00 Byte)\n",
      "_________________________________________________________________\n",
      "Epoch 1/15\n",
      "15190/15190 [==============================] - 26s 2ms/step - loss: 0.0265 - accuracy: 0.9956\n",
      "Epoch 2/15\n",
      "15190/15190 [==============================] - 24s 2ms/step - loss: 0.0194 - accuracy: 0.9982\n",
      "Epoch 3/15\n",
      "15190/15190 [==============================] - 25s 2ms/step - loss: 0.0149 - accuracy: 0.9983\n",
      "Epoch 4/15\n",
      "15190/15190 [==============================] - 24s 2ms/step - loss: 0.0191 - accuracy: 0.9983\n",
      "Epoch 5/15\n",
      "15190/15190 [==============================] - 24s 2ms/step - loss: 0.0153 - accuracy: 0.9982\n",
      "Epoch 6/15\n",
      "15190/15190 [==============================] - 24s 2ms/step - loss: 0.0140 - accuracy: 0.9983\n",
      "Epoch 7/15\n",
      "15190/15190 [==============================] - 24s 2ms/step - loss: 0.0159 - accuracy: 0.9983\n",
      "Epoch 8/15\n",
      "15190/15190 [==============================] - 24s 2ms/step - loss: 0.0162 - accuracy: 0.9983\n",
      "Epoch 9/15\n",
      "15190/15190 [==============================] - 25s 2ms/step - loss: 0.0206 - accuracy: 0.9983\n",
      "Epoch 10/15\n",
      "15190/15190 [==============================] - 25s 2ms/step - loss: 0.0130 - accuracy: 0.9983\n",
      "Epoch 11/15\n",
      "15190/15190 [==============================] - 24s 2ms/step - loss: 0.0517 - accuracy: 0.9983\n",
      "Epoch 12/15\n",
      "15190/15190 [==============================] - 24s 2ms/step - loss: 0.0130 - accuracy: 0.9983\n",
      "Epoch 13/15\n",
      "15190/15190 [==============================] - 24s 2ms/step - loss: 0.0153 - accuracy: 0.9983\n",
      "Epoch 14/15\n",
      "15190/15190 [==============================] - 24s 2ms/step - loss: 0.0428 - accuracy: 0.9983\n",
      "Epoch 15/15\n",
      "15190/15190 [==============================] - 25s 2ms/step - loss: 0.0155 - accuracy: 0.9983\n",
      "1781/1781 [==============================] - 2s 1ms/step\n",
      "1781/1781 [==============================] - 2s 1ms/step - loss: 0.0138 - accuracy: 0.9982\n",
      "Model Score on testing data : [0.013835955411195755, 0.9982444643974304]\n",
      "\n",
      "\n",
      "Classification report on Testing and Predicted data :\n",
      "\n",
      "\n",
      "              precision    recall  f1-score   support\n",
      "\n",
      "           0       1.00      1.00      1.00     56864\n",
      "           1       0.00      0.00      0.00        98\n",
      "\n",
      "    accuracy                           1.00     56962\n",
      "   macro avg       0.50      0.50      0.50     56962\n",
      "weighted avg       1.00      1.00      1.00     56962\n",
      "\n",
      "\n",
      "Confusion matrix of the model :\n"
     ]
    },
    {
     "data": {
      "image/png": "[encoded data removed]",
      "text/plain": [
       "<Figure size 864x864 with 2 Axes>"
      ]
     },
     "metadata": {
      "needs_background": "light"
     },
     "output_type": "display_data"
    },
    {
     "name": "stdout",
     "output_type": "stream",
     "text": [
      "End time:  1693855398.482399\n",
      "Total Time taken : 373.75518465042114\n"
     ]
    }
   ],
   "source": [
    "model_build(nn,xTrain_imb,yTrain_imb,xTest_imb,yTest_imb)"
   ]
  },
  {
   "cell_type": "markdown",
   "id": "d35c2ead",
   "metadata": {},
   "source": [
    "### Final Result : Amongst all the Models which were trained and tested, Random Forest outshone all other algorithms, delivering a F1-score of 0.87 through the implementation of Oversampling."
   ]
  },
  {
   "cell_type": "code",
   "execution_count": null,
   "id": "d321c45d",
   "metadata": {},
   "outputs": [],
   "source": []
  }
 ],
 "metadata": {
  "kernelspec": {
   "display_name": "Python 3 (ipykernel)",
   "language": "python",
   "name": "python3"
  },
  "language_info": {
   "codemirror_mode": {
    "name": "ipython",
    "version": 3
   },
   "file_extension": ".py",
   "mimetype": "text/x-python",
   "name": "python",
   "nbconvert_exporter": "python",
   "pygments_lexer": "ipython3",
   "version": "3.9.12"
  }
 },
 "nbformat": 4,
 "nbformat_minor": 5
}
